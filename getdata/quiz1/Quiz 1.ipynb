{
 "cells": [
  {
   "cell_type": "markdown",
   "metadata": {},
   "source": [
    "# Quiz 1 \n",
    "By Kasper Primdal Lauritzen, October 2015.\n",
    "Getting and Cleaning Data on Coursera\n",
    "\n",
    "Attempt to use Python instead of R"
   ]
  },
  {
   "cell_type": "code",
   "execution_count": 115,
   "metadata": {
    "collapsed": true
   },
   "outputs": [],
   "source": [
    "import numpy as np\n",
    "import pandas as pd"
   ]
  },
  {
   "cell_type": "markdown",
   "metadata": {},
   "source": [
    "## Question 1\n",
    ">The American Community Survey distributes downloadable data about United States communities. Download the 2006 microdata survey about housing for the state of Idaho using download.file() from here:\n",
    "\n",
    ">https://d396qusza40orc.cloudfront.net/getdata%2Fdata%2Fss06hid.csv\n",
    "\n",
    ">and load the data into R. The code book, describing the variable names is here:\n",
    "\n",
    ">https://d396qusza40orc.cloudfront.net/getdata%2Fdata%2FPUMSDataDict06.pdf\n",
    "\n",
    ">How many properties are worth $1,000,000 or more? \n",
    "\n",
    "-----\n",
    "I have downloaded this file as `acs.csv`"
   ]
  },
  {
   "cell_type": "code",
   "execution_count": 116,
   "metadata": {
    "collapsed": false
   },
   "outputs": [
    {
     "name": "stdout",
     "output_type": "stream",
     "text": [
      "<class 'pandas.core.frame.DataFrame'>\n",
      "Int64Index: 6496 entries, 0 to 6495\n",
      "Columns: 188 entries, RT to wgtp80\n",
      "dtypes: float64(97), int64(90), object(1)\n",
      "memory usage: 9.4+ MB\n"
     ]
    },
    {
     "data": {
      "text/html": [
       "<div>\n",
       "<table border=\"1\" class=\"dataframe\">\n",
       "  <thead>\n",
       "    <tr style=\"text-align: right;\">\n",
       "      <th></th>\n",
       "      <th>SERIALNO</th>\n",
       "      <th>DIVISION</th>\n",
       "      <th>PUMA</th>\n",
       "      <th>REGION</th>\n",
       "      <th>ST</th>\n",
       "      <th>ADJUST</th>\n",
       "      <th>WGTP</th>\n",
       "      <th>NP</th>\n",
       "      <th>TYPE</th>\n",
       "      <th>ACR</th>\n",
       "      <th>...</th>\n",
       "      <th>wgtp71</th>\n",
       "      <th>wgtp72</th>\n",
       "      <th>wgtp73</th>\n",
       "      <th>wgtp74</th>\n",
       "      <th>wgtp75</th>\n",
       "      <th>wgtp76</th>\n",
       "      <th>wgtp77</th>\n",
       "      <th>wgtp78</th>\n",
       "      <th>wgtp79</th>\n",
       "      <th>wgtp80</th>\n",
       "    </tr>\n",
       "  </thead>\n",
       "  <tbody>\n",
       "    <tr>\n",
       "      <th>count</th>\n",
       "      <td>6496.000000</td>\n",
       "      <td>6496</td>\n",
       "      <td>6496.000000</td>\n",
       "      <td>6496</td>\n",
       "      <td>6496</td>\n",
       "      <td>6496</td>\n",
       "      <td>6496.000000</td>\n",
       "      <td>6496.000000</td>\n",
       "      <td>6496.000000</td>\n",
       "      <td>5501.000000</td>\n",
       "      <td>...</td>\n",
       "      <td>6496.000000</td>\n",
       "      <td>6496.00000</td>\n",
       "      <td>6496.00000</td>\n",
       "      <td>6496.000000</td>\n",
       "      <td>6496.000000</td>\n",
       "      <td>6496.000000</td>\n",
       "      <td>6496.000000</td>\n",
       "      <td>6496.000000</td>\n",
       "      <td>6496.000000</td>\n",
       "      <td>6496.000000</td>\n",
       "    </tr>\n",
       "    <tr>\n",
       "      <th>mean</th>\n",
       "      <td>684133.681342</td>\n",
       "      <td>8</td>\n",
       "      <td>486.222291</td>\n",
       "      <td>4</td>\n",
       "      <td>16</td>\n",
       "      <td>1015675</td>\n",
       "      <td>94.781866</td>\n",
       "      <td>2.298491</td>\n",
       "      <td>1.069581</td>\n",
       "      <td>1.357026</td>\n",
       "      <td>...</td>\n",
       "      <td>94.791564</td>\n",
       "      <td>94.77694</td>\n",
       "      <td>94.77186</td>\n",
       "      <td>94.780172</td>\n",
       "      <td>94.769243</td>\n",
       "      <td>94.786330</td>\n",
       "      <td>94.783867</td>\n",
       "      <td>94.773399</td>\n",
       "      <td>94.775400</td>\n",
       "      <td>94.777401</td>\n",
       "    </tr>\n",
       "    <tr>\n",
       "      <th>std</th>\n",
       "      <td>390654.681410</td>\n",
       "      <td>0</td>\n",
       "      <td>270.498896</td>\n",
       "      <td>0</td>\n",
       "      <td>0</td>\n",
       "      <td>0</td>\n",
       "      <td>73.523809</td>\n",
       "      <td>1.563549</td>\n",
       "      <td>0.315509</td>\n",
       "      <td>0.624471</td>\n",
       "      <td>...</td>\n",
       "      <td>92.988570</td>\n",
       "      <td>95.56488</td>\n",
       "      <td>91.49636</td>\n",
       "      <td>93.275930</td>\n",
       "      <td>92.415760</td>\n",
       "      <td>92.950416</td>\n",
       "      <td>92.465471</td>\n",
       "      <td>94.253192</td>\n",
       "      <td>92.665848</td>\n",
       "      <td>97.097489</td>\n",
       "    </tr>\n",
       "    <tr>\n",
       "      <th>min</th>\n",
       "      <td>186.000000</td>\n",
       "      <td>8</td>\n",
       "      <td>100.000000</td>\n",
       "      <td>4</td>\n",
       "      <td>16</td>\n",
       "      <td>1015675</td>\n",
       "      <td>0.000000</td>\n",
       "      <td>0.000000</td>\n",
       "      <td>1.000000</td>\n",
       "      <td>1.000000</td>\n",
       "      <td>...</td>\n",
       "      <td>0.000000</td>\n",
       "      <td>0.00000</td>\n",
       "      <td>0.00000</td>\n",
       "      <td>0.000000</td>\n",
       "      <td>0.000000</td>\n",
       "      <td>0.000000</td>\n",
       "      <td>0.000000</td>\n",
       "      <td>0.000000</td>\n",
       "      <td>0.000000</td>\n",
       "      <td>0.000000</td>\n",
       "    </tr>\n",
       "    <tr>\n",
       "      <th>25%</th>\n",
       "      <td>346441.500000</td>\n",
       "      <td>8</td>\n",
       "      <td>300.000000</td>\n",
       "      <td>4</td>\n",
       "      <td>16</td>\n",
       "      <td>1015675</td>\n",
       "      <td>50.000000</td>\n",
       "      <td>1.000000</td>\n",
       "      <td>1.000000</td>\n",
       "      <td>1.000000</td>\n",
       "      <td>...</td>\n",
       "      <td>30.000000</td>\n",
       "      <td>29.00000</td>\n",
       "      <td>31.00000</td>\n",
       "      <td>30.000000</td>\n",
       "      <td>30.000000</td>\n",
       "      <td>30.000000</td>\n",
       "      <td>30.000000</td>\n",
       "      <td>30.000000</td>\n",
       "      <td>31.000000</td>\n",
       "      <td>28.000000</td>\n",
       "    </tr>\n",
       "    <tr>\n",
       "      <th>50%</th>\n",
       "      <td>686950.000000</td>\n",
       "      <td>8</td>\n",
       "      <td>500.000000</td>\n",
       "      <td>4</td>\n",
       "      <td>16</td>\n",
       "      <td>1015675</td>\n",
       "      <td>83.000000</td>\n",
       "      <td>2.000000</td>\n",
       "      <td>1.000000</td>\n",
       "      <td>1.000000</td>\n",
       "      <td>...</td>\n",
       "      <td>74.000000</td>\n",
       "      <td>73.00000</td>\n",
       "      <td>75.00000</td>\n",
       "      <td>74.000000</td>\n",
       "      <td>75.000000</td>\n",
       "      <td>75.000000</td>\n",
       "      <td>74.000000</td>\n",
       "      <td>73.000000</td>\n",
       "      <td>74.000000</td>\n",
       "      <td>72.000000</td>\n",
       "    </tr>\n",
       "    <tr>\n",
       "      <th>75%</th>\n",
       "      <td>1024785.250000</td>\n",
       "      <td>8</td>\n",
       "      <td>700.000000</td>\n",
       "      <td>4</td>\n",
       "      <td>16</td>\n",
       "      <td>1015675</td>\n",
       "      <td>115.000000</td>\n",
       "      <td>3.000000</td>\n",
       "      <td>1.000000</td>\n",
       "      <td>2.000000</td>\n",
       "      <td>...</td>\n",
       "      <td>126.000000</td>\n",
       "      <td>125.00000</td>\n",
       "      <td>124.00000</td>\n",
       "      <td>124.000000</td>\n",
       "      <td>125.000000</td>\n",
       "      <td>124.000000</td>\n",
       "      <td>125.000000</td>\n",
       "      <td>125.000000</td>\n",
       "      <td>124.000000</td>\n",
       "      <td>126.000000</td>\n",
       "    </tr>\n",
       "    <tr>\n",
       "      <th>max</th>\n",
       "      <td>1358490.000000</td>\n",
       "      <td>8</td>\n",
       "      <td>900.000000</td>\n",
       "      <td>4</td>\n",
       "      <td>16</td>\n",
       "      <td>1015675</td>\n",
       "      <td>588.000000</td>\n",
       "      <td>11.000000</td>\n",
       "      <td>3.000000</td>\n",
       "      <td>3.000000</td>\n",
       "      <td>...</td>\n",
       "      <td>918.000000</td>\n",
       "      <td>891.00000</td>\n",
       "      <td>832.00000</td>\n",
       "      <td>1023.000000</td>\n",
       "      <td>880.000000</td>\n",
       "      <td>815.000000</td>\n",
       "      <td>908.000000</td>\n",
       "      <td>1010.000000</td>\n",
       "      <td>847.000000</td>\n",
       "      <td>897.000000</td>\n",
       "    </tr>\n",
       "  </tbody>\n",
       "</table>\n",
       "<p>8 rows × 187 columns</p>\n",
       "</div>"
      ],
      "text/plain": [
       "             SERIALNO  DIVISION         PUMA  REGION    ST   ADJUST  \\\n",
       "count     6496.000000      6496  6496.000000    6496  6496     6496   \n",
       "mean    684133.681342         8   486.222291       4    16  1015675   \n",
       "std     390654.681410         0   270.498896       0     0        0   \n",
       "min        186.000000         8   100.000000       4    16  1015675   \n",
       "25%     346441.500000         8   300.000000       4    16  1015675   \n",
       "50%     686950.000000         8   500.000000       4    16  1015675   \n",
       "75%    1024785.250000         8   700.000000       4    16  1015675   \n",
       "max    1358490.000000         8   900.000000       4    16  1015675   \n",
       "\n",
       "              WGTP           NP         TYPE          ACR     ...       \\\n",
       "count  6496.000000  6496.000000  6496.000000  5501.000000     ...        \n",
       "mean     94.781866     2.298491     1.069581     1.357026     ...        \n",
       "std      73.523809     1.563549     0.315509     0.624471     ...        \n",
       "min       0.000000     0.000000     1.000000     1.000000     ...        \n",
       "25%      50.000000     1.000000     1.000000     1.000000     ...        \n",
       "50%      83.000000     2.000000     1.000000     1.000000     ...        \n",
       "75%     115.000000     3.000000     1.000000     2.000000     ...        \n",
       "max     588.000000    11.000000     3.000000     3.000000     ...        \n",
       "\n",
       "            wgtp71      wgtp72      wgtp73       wgtp74       wgtp75  \\\n",
       "count  6496.000000  6496.00000  6496.00000  6496.000000  6496.000000   \n",
       "mean     94.791564    94.77694    94.77186    94.780172    94.769243   \n",
       "std      92.988570    95.56488    91.49636    93.275930    92.415760   \n",
       "min       0.000000     0.00000     0.00000     0.000000     0.000000   \n",
       "25%      30.000000    29.00000    31.00000    30.000000    30.000000   \n",
       "50%      74.000000    73.00000    75.00000    74.000000    75.000000   \n",
       "75%     126.000000   125.00000   124.00000   124.000000   125.000000   \n",
       "max     918.000000   891.00000   832.00000  1023.000000   880.000000   \n",
       "\n",
       "            wgtp76       wgtp77       wgtp78       wgtp79       wgtp80  \n",
       "count  6496.000000  6496.000000  6496.000000  6496.000000  6496.000000  \n",
       "mean     94.786330    94.783867    94.773399    94.775400    94.777401  \n",
       "std      92.950416    92.465471    94.253192    92.665848    97.097489  \n",
       "min       0.000000     0.000000     0.000000     0.000000     0.000000  \n",
       "25%      30.000000    30.000000    30.000000    31.000000    28.000000  \n",
       "50%      75.000000    74.000000    73.000000    74.000000    72.000000  \n",
       "75%     124.000000   125.000000   125.000000   124.000000   126.000000  \n",
       "max     815.000000   908.000000  1010.000000   847.000000   897.000000  \n",
       "\n",
       "[8 rows x 187 columns]"
      ]
     },
     "execution_count": 116,
     "metadata": {},
     "output_type": "execute_result"
    }
   ],
   "source": [
    "acs = pd.read_csv(\"acs.csv\")\n",
    "acs.info()\n",
    "acs.describe()"
   ]
  },
  {
   "cell_type": "markdown",
   "metadata": {},
   "source": [
    "Looking into the code book I see that `VAL` is the column describing value. It is a categorical variable, and `24` represents a property value above $1,000,000."
   ]
  },
  {
   "cell_type": "code",
   "execution_count": 117,
   "metadata": {
    "collapsed": false
   },
   "outputs": [
    {
     "data": {
      "text/plain": [
       "53"
      ]
     },
     "execution_count": 117,
     "metadata": {},
     "output_type": "execute_result"
    }
   ],
   "source": [
    "values = acs['VAL']\n",
    "sum(values == 24)"
   ]
  },
  {
   "cell_type": "markdown",
   "metadata": {},
   "source": [
    "## Question 2\n",
    ">Use the data you loaded from Question 1. Consider the variable FES in the code book. Which of the \"tidy data\" principles does this variable violate? \n",
    "\n",
    "It has more than one variable per column"
   ]
  },
  {
   "cell_type": "markdown",
   "metadata": {},
   "source": [
    "## Question 3\n",
    "> Download the Excel spreadsheet on Natural Gas Aquisition Program here:\n",
    "\n",
    "> https://d396qusza40orc.cloudfront.net/getdata%2Fdata%2FDATA.gov_NGAP.xlsx\n",
    "\n",
    "> Read rows 18-23 and columns 7-15 into R and assign the result to a variable called:\n",
    "\n",
    "> `dat` \n",
    "\n",
    ">What is the value of:\n",
    "\n",
    "> `sum(dat$Zip*dat$Ext,na.rm=T) `\n",
    "\n",
    ">(original data source: http://catalog.data.gov/dataset/natural-gas-acquisition-program)"
   ]
  },
  {
   "cell_type": "code",
   "execution_count": 118,
   "metadata": {
    "collapsed": false
   },
   "outputs": [
    {
     "data": {
      "text/html": [
       "<div>\n",
       "<table border=\"1\" class=\"dataframe\">\n",
       "  <thead>\n",
       "    <tr style=\"text-align: right;\">\n",
       "      <th></th>\n",
       "      <th>StateAbbrev</th>\n",
       "      <th>CName</th>\n",
       "      <th>Address1</th>\n",
       "      <th>Address2</th>\n",
       "      <th>Address3</th>\n",
       "      <th>City</th>\n",
       "      <th>Zip</th>\n",
       "      <th>CuCurrent</th>\n",
       "      <th>PaCurrent</th>\n",
       "      <th>PoCurrent</th>\n",
       "      <th>...</th>\n",
       "      <th>Unnamed: 16</th>\n",
       "      <th>Unnamed: 17</th>\n",
       "      <th>Unnamed: 18</th>\n",
       "      <th>Unnamed: 19</th>\n",
       "      <th>Unnamed: 20</th>\n",
       "      <th>Unnamed: 21</th>\n",
       "      <th>Unnamed: 22</th>\n",
       "      <th>Unnamed: 23</th>\n",
       "      <th>Unnamed: 24</th>\n",
       "      <th>Unnamed: 25</th>\n",
       "    </tr>\n",
       "  </thead>\n",
       "  <tbody>\n",
       "    <tr>\n",
       "      <th>count</th>\n",
       "      <td>67</td>\n",
       "      <td>47</td>\n",
       "      <td>28</td>\n",
       "      <td>30</td>\n",
       "      <td>23</td>\n",
       "      <td>15</td>\n",
       "      <td>24</td>\n",
       "      <td>17</td>\n",
       "      <td>14</td>\n",
       "      <td>23</td>\n",
       "      <td>...</td>\n",
       "      <td>8</td>\n",
       "      <td>2</td>\n",
       "      <td>6</td>\n",
       "      <td>6.000</td>\n",
       "      <td>6.0</td>\n",
       "      <td>1</td>\n",
       "      <td>6</td>\n",
       "      <td>6</td>\n",
       "      <td>6</td>\n",
       "      <td>6.00</td>\n",
       "    </tr>\n",
       "    <tr>\n",
       "      <th>unique</th>\n",
       "      <td>50</td>\n",
       "      <td>36</td>\n",
       "      <td>24</td>\n",
       "      <td>21</td>\n",
       "      <td>23</td>\n",
       "      <td>12</td>\n",
       "      <td>23</td>\n",
       "      <td>9</td>\n",
       "      <td>6</td>\n",
       "      <td>14</td>\n",
       "      <td>...</td>\n",
       "      <td>4</td>\n",
       "      <td>2</td>\n",
       "      <td>6</td>\n",
       "      <td>6.000</td>\n",
       "      <td>3.0</td>\n",
       "      <td>1</td>\n",
       "      <td>6</td>\n",
       "      <td>2</td>\n",
       "      <td>6</td>\n",
       "      <td>6.00</td>\n",
       "    </tr>\n",
       "    <tr>\n",
       "      <th>top</th>\n",
       "      <td>2007-05-01 00:00:00.000</td>\n",
       "      <td>Uploaded/Verified</td>\n",
       "      <td>2007</td>\n",
       "      <td>7</td>\n",
       "      <td>InvFileName</td>\n",
       "      <td>AR</td>\n",
       "      <td>74136</td>\n",
       "      <td>0</td>\n",
       "      <td>0</td>\n",
       "      <td>0</td>\n",
       "      <td>...</td>\n",
       "      <td>0</td>\n",
       "      <td>Supp_Misc_fee</td>\n",
       "      <td>Supp_FinalVolume</td>\n",
       "      <td>350.152</td>\n",
       "      <td>7.5</td>\n",
       "      <td>CU_Year</td>\n",
       "      <td>5</td>\n",
       "      <td>VA0003ZZ</td>\n",
       "      <td>Total_FinalCost</td>\n",
       "      <td>10.22</td>\n",
       "    </tr>\n",
       "    <tr>\n",
       "      <th>freq</th>\n",
       "      <td>5</td>\n",
       "      <td>5</td>\n",
       "      <td>5</td>\n",
       "      <td>5</td>\n",
       "      <td>1</td>\n",
       "      <td>3</td>\n",
       "      <td>2</td>\n",
       "      <td>7</td>\n",
       "      <td>6</td>\n",
       "      <td>10</td>\n",
       "      <td>...</td>\n",
       "      <td>5</td>\n",
       "      <td>1</td>\n",
       "      <td>1</td>\n",
       "      <td>1.000</td>\n",
       "      <td>4.0</td>\n",
       "      <td>1</td>\n",
       "      <td>1</td>\n",
       "      <td>5</td>\n",
       "      <td>1</td>\n",
       "      <td>1.00</td>\n",
       "    </tr>\n",
       "  </tbody>\n",
       "</table>\n",
       "<p>4 rows × 26 columns</p>\n",
       "</div>"
      ],
      "text/plain": [
       "                    StateAbbrev              CName  Address1  Address2  \\\n",
       "count                        67                 47        28        30   \n",
       "unique                       50                 36        24        21   \n",
       "top     2007-05-01 00:00:00.000  Uploaded/Verified      2007         7   \n",
       "freq                          5                  5         5         5   \n",
       "\n",
       "           Address3 City    Zip  CuCurrent  PaCurrent  PoCurrent     ...       \\\n",
       "count            23   15     24         17         14         23     ...        \n",
       "unique           23   12     23          9          6         14     ...        \n",
       "top     InvFileName   AR  74136          0          0          0     ...        \n",
       "freq              1    3      2          7          6         10     ...        \n",
       "\n",
       "        Unnamed: 16    Unnamed: 17       Unnamed: 18  Unnamed: 19  \\\n",
       "count             8              2                 6        6.000   \n",
       "unique            4              2                 6        6.000   \n",
       "top               0  Supp_Misc_fee  Supp_FinalVolume      350.152   \n",
       "freq              5              1                 1        1.000   \n",
       "\n",
       "        Unnamed: 20 Unnamed: 21  Unnamed: 22 Unnamed: 23      Unnamed: 24  \\\n",
       "count           6.0           1            6           6                6   \n",
       "unique          3.0           1            6           2                6   \n",
       "top             7.5     CU_Year            5    VA0003ZZ  Total_FinalCost   \n",
       "freq            4.0           1            1           5                1   \n",
       "\n",
       "        Unnamed: 25  \n",
       "count          6.00  \n",
       "unique         6.00  \n",
       "top           10.22  \n",
       "freq           1.00  \n",
       "\n",
       "[4 rows x 26 columns]"
      ]
     },
     "execution_count": 118,
     "metadata": {},
     "output_type": "execute_result"
    }
   ],
   "source": [
    "xl = pd.ExcelFile(\"NGAP.xlsx\")\n",
    "NGAP = xl.parse(xl.sheet_names[0], skiprows=17)\n",
    "NGAP.describe()"
   ]
  },
  {
   "cell_type": "code",
   "execution_count": 119,
   "metadata": {
    "collapsed": true
   },
   "outputs": [],
   "source": [
    "# Select 5 rows\n",
    "dat = NGAP[:5]"
   ]
  },
  {
   "cell_type": "code",
   "execution_count": 120,
   "metadata": {
    "collapsed": false
   },
   "outputs": [
    {
     "data": {
      "text/plain": [
       "36534720"
      ]
     },
     "execution_count": 120,
     "metadata": {},
     "output_type": "execute_result"
    }
   ],
   "source": [
    "(dat.Zip * dat.Ext).sum()"
   ]
  },
  {
   "cell_type": "markdown",
   "metadata": {},
   "source": [
    "# Question 4\n",
    "> Read the XML data on Baltimore restaurants from here:\n",
    "\n",
    ">https://d396qusza40orc.cloudfront.net/getdata%2Fdata%2Frestaurants.xml\n",
    "\n",
    ">How many restaurants have zipcode 21231? "
   ]
  },
  {
   "cell_type": "code",
   "execution_count": 121,
   "metadata": {
    "collapsed": false
   },
   "outputs": [],
   "source": [
    "from lxml import etree"
   ]
  },
  {
   "cell_type": "code",
   "execution_count": 122,
   "metadata": {
    "collapsed": false
   },
   "outputs": [],
   "source": [
    "parsed = etree.parse(open(\"getdata%2Fdata%2Frestaurants.xml\", 'r'))\n",
    "root = parsed.getroot()"
   ]
  },
  {
   "cell_type": "code",
   "execution_count": 123,
   "metadata": {
    "collapsed": false
   },
   "outputs": [],
   "source": [
    "zips = root.findall(\".//zipcode\")"
   ]
  },
  {
   "cell_type": "code",
   "execution_count": 124,
   "metadata": {
    "collapsed": false
   },
   "outputs": [
    {
     "name": "stdout",
     "output_type": "stream",
     "text": [
      "127\n"
     ]
    }
   ],
   "source": [
    "counter = 0\n",
    "target = \"21231\"\n",
    "for el in zips:\n",
    "    if  el.text == target:\n",
    "        counter += 1\n",
    "print counter"
   ]
  },
  {
   "cell_type": "markdown",
   "metadata": {},
   "source": [
    "## Question 5\n",
    "> The American Community Survey distributes downloadable data about United States communities. Download the 2006 microdata survey about housing for the state of Idaho using download.file() from here:\n",
    "\n",
    ">https://d396qusza40orc.cloudfront.net/getdata%2Fdata%2Fss06pid.csv\n",
    "\n",
    ">using the fread() command load the data into an R object\n",
    "\n",
    "> `DT` \n",
    "\n",
    ">Which of the following is the fastest way to calculate the average value of the variable\n",
    "\n",
    ">`pwgtp15 `\n",
    "\n",
    ">broken down by sex using the data.table package? \n",
    "\n",
    "`sapply` is the fasted method."
   ]
  },
  {
   "cell_type": "code",
   "execution_count": null,
   "metadata": {
    "collapsed": true
   },
   "outputs": [],
   "source": []
  }
 ],
 "metadata": {
  "kernelspec": {
   "display_name": "Python 2",
   "language": "python",
   "name": "python2"
  },
  "language_info": {
   "codemirror_mode": {
    "name": "ipython",
    "version": 2
   },
   "file_extension": ".py",
   "mimetype": "text/x-python",
   "name": "python",
   "nbconvert_exporter": "python",
   "pygments_lexer": "ipython2",
   "version": "2.7.10"
  }
 },
 "nbformat": 4,
 "nbformat_minor": 0
}
